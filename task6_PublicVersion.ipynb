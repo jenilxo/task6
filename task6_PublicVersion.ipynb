{
 "cells": [
  {
   "cell_type": "markdown",
   "id": "f2dae60b",
   "metadata": {},
   "source": [
    "#Task Description 📄\n",
    "\n",
    "❄️ Create a program that perform below mentioned task upon recognizing a particular face.\n",
    "\n",
    "📌 When it recognize your face then -\n",
    "👉 It send mail to your mail id\n",
    "👉 Second it send whatsapp message to your friend, it can be anything.\n",
    "\n",
    "📌 When it recognize second face, it can be your friend or family members face.\n",
    "👉 It send mail to your mail id"
   ]
  },
  {
   "cell_type": "markdown",
   "id": "2d06da36",
   "metadata": {},
   "source": [
    "# Data_Collection"
   ]
  },
  {
   "cell_type": "code",
   "execution_count": 1,
   "id": "1d37d8d6",
   "metadata": {},
   "outputs": [],
   "source": [
    "import cv2\n",
    "face_classifier = cv2.CascadeClassifier('haarcascade_frontalface_default.xml')\n",
    "path = 'Please Set Your Path Here'"
   ]
  },
  {
   "cell_type": "code",
   "execution_count": 2,
   "id": "6ac12b8a",
   "metadata": {},
   "outputs": [
    {
     "name": "stderr",
     "output_type": "stream",
     "text": [
      "<>:4: SyntaxWarning: \"is\" with a literal. Did you mean \"==\"?\n",
      "<>:4: SyntaxWarning: \"is\" with a literal. Did you mean \"==\"?\n",
      "<ipython-input-2-6c6a1947e9c0>:4: SyntaxWarning: \"is\" with a literal. Did you mean \"==\"?\n",
      "  if face  is ():\n"
     ]
    }
   ],
   "source": [
    "def faceExtracter(photo):\n",
    "    face = face_classifier.detectMultiScale(photo,1.3,5)\n",
    "    try:\n",
    "        if face  is ():\n",
    "            return None\n",
    "           # print(len(face))\n",
    "        else:\n",
    "            for (x1,y1,w,h) in face:\n",
    "                #print(i)\n",
    "                \n",
    "                x2 = x1 + w #151\n",
    "                y2 = y1 + h #151\n",
    "                \n",
    "                #rectPhoto=cv2.rectangle(photo,(x1,y1),(x2,y2),(0,255,0),2)\n",
    "                \n",
    "                #print(rectPhoto.shape)\n",
    "        \n",
    "                cphoto= photo[y1:y2,x1:x2]\n",
    "                pic = cv2.resize(cphoto,(100,100))\n",
    "                \n",
    "                #when we frame always they detect gray clr.\n",
    "                face = cv2.cvtColor(pic, cv2.COLOR_BGR2GRAY)\n",
    "                return face\n",
    "                #aphoto = cv2.rectangle(face_final, (x1,y1),(x2,y2),[255,0,0],6)\n",
    "            \n",
    "    except:\n",
    "        print(\"No face found\")"
   ]
  },
  {
   "cell_type": "code",
   "execution_count": 3,
   "id": "ad0222d4",
   "metadata": {},
   "outputs": [],
   "source": [
    "count = 0\n",
    "cap = cv2.VideoCapture('http://192.168.0.101:4747/video')\n",
    "while count<100:\n",
    "    \n",
    "    ret , photo = cap.read()\n",
    "    if faceExtracter(photo) is not None:\n",
    "        count += 1\n",
    "        face = faceExtracter(photo)\n",
    "        cv2.imshow(\"ni\", face)\n",
    "        cv2.waitKey(10) \n",
    "        file_name = path + str(count) + \".jpg\"\n",
    "        cv2.imwrite(file_name, face)\n",
    "    else:\n",
    "        pass\n",
    "    \n",
    "    \n",
    "cv2.destroyAllWindows()\n",
    "cap.release()"
   ]
  },
  {
   "cell_type": "markdown",
   "id": "ed16f3f7",
   "metadata": {},
   "source": [
    "# Model_Train"
   ]
  },
  {
   "cell_type": "code",
   "execution_count": 4,
   "id": "2fe62966",
   "metadata": {},
   "outputs": [],
   "source": [
    "from cv2 import face_LBPHFaceRecognizer\n",
    "import threading"
   ]
  },
  {
   "cell_type": "code",
   "execution_count": 5,
   "id": "30f92ca8",
   "metadata": {},
   "outputs": [
    {
     "name": "stdout",
     "output_type": "stream",
     "text": [
      "Model trained sucessefully\n"
     ]
    }
   ],
   "source": [
    "import cv2\n",
    "import numpy as np\n",
    "from os import listdir\n",
    "from os.path import isfile, join\n",
    "\n",
    "# Get the training data we previously made\n",
    "data_path = 'Please Set Your Path Here'\n",
    "onlyfiles = [f for f in listdir(data_path) if isfile(join(data_path, f))]\n",
    "\n",
    "# Create arrays for training data and labels\n",
    "Training_Data, Labels = [], []\n",
    "\n",
    "# Open training images in our datapath\n",
    "# Create a numpy array for training data\n",
    "for i, files in enumerate(onlyfiles):\n",
    "    image_path = data_path + onlyfiles[i]\n",
    "    images = cv2.imread(image_path, cv2.IMREAD_GRAYSCALE)\n",
    "    Training_Data.append(np.asarray(images, dtype=np.uint8))\n",
    "    Labels.append(i)\n",
    "\n",
    "# Create a numpy array for both training data and labels\n",
    "Labels = np.asarray(Labels, dtype=np.int32)\n",
    "\n",
    "model  = face_LBPHFaceRecognizer.create()\n",
    "# Let's train our model \n",
    "model.train(np.asarray(Training_Data), np.asarray(Labels))\n",
    "print(\"Model trained sucessefully\")"
   ]
  },
  {
   "cell_type": "markdown",
   "id": "8e98a8d4",
   "metadata": {},
   "source": [
    "# Mail_Function"
   ]
  },
  {
   "cell_type": "code",
   "execution_count": 6,
   "id": "7c3b4cfe",
   "metadata": {},
   "outputs": [],
   "source": [
    "import smtplib as s\n",
    "def mail():\n",
    "    server = s.SMTP('smtp.gmail.com', 587)\n",
    "    server.starttls()\n",
    "    sender_mail = 'SenderMail'\n",
    "    sender_passwd = 'Password'\n",
    "    server.login(sender_mail, sender_passwd )\n",
    "    receiver_mail = 'RECV_MAIL'\n",
    "    body_msg = \"Alert, any other user come in your workspace...!!\"\n",
    "    server.sendmail(sender_mail,\n",
    "                receiver_mail, body_msg)\n",
    "    print(\"Sending Mail Please wait......\")\n",
    "#mail()\n",
    "    print(\"Email has been sent to receiver_mail id\")"
   ]
  },
  {
   "cell_type": "markdown",
   "id": "33d856b2",
   "metadata": {},
   "source": [
    "# WhatsApp_Msg"
   ]
  },
  {
   "cell_type": "code",
   "execution_count": 7,
   "id": "b0414f62",
   "metadata": {},
   "outputs": [],
   "source": [
    "import pywhatkit\n",
    "from datetime import datetime\n",
    "def whatsapp():\n",
    "    number = 'ENTER PHONE NUM'\n",
    "    msg = 'Hy This is python'\n",
    "    now = datetime.now()           # Get current time\n",
    "    hr = int(now.strftime(\"%H\"))   # Current Hour\n",
    "    min = int(now.strftime(\"%M\"))\n",
    "    pywhatkit.sendwhatmsg(number,\"Hey Jenil, Your Face Detected!\", hr,min+1 ,wait_time=10)\n",
    "\n",
    "   # pywhatkit.sendwhatmsg (number, msg, )\n",
    "#whatsapp()    "
   ]
  },
  {
   "cell_type": "markdown",
   "id": "4c38ec02",
   "metadata": {},
   "source": [
    "# AWS_Instance"
   ]
  },
  {
   "cell_type": "code",
   "execution_count": 8,
   "id": "03650a8f",
   "metadata": {},
   "outputs": [],
   "source": [
    "import os\n",
    "def AWS_launch():\n",
    "    os.system(\"aws ec2 run-instances --image-id ami-06a0b4e3b7eb7a300  --instance-type t2.micro --count 1 --subnet-id subnet-6abe9b26 --security-group-ids sg-998329e5 --key-name xxx\")\n",
    "    print(\"your instance successfully launched\")"
   ]
  },
  {
   "cell_type": "markdown",
   "id": "c740211d",
   "metadata": {},
   "source": [
    "# Discord_Webhook"
   ]
  },
  {
   "cell_type": "code",
   "execution_count": 9,
   "id": "efe430df",
   "metadata": {},
   "outputs": [],
   "source": [
    "from dhooks import Webhook\n",
    "hook = Webhook(\"Your Discord Server API HERE\")\n",
    "def Discord_alert():\n",
    "    data = (\"Login Detected\")\n",
    "    hook.send(data)"
   ]
  },
  {
   "cell_type": "markdown",
   "id": "03ca1e16",
   "metadata": {},
   "source": [
    "# Face_Detector_RZLT"
   ]
  },
  {
   "cell_type": "code",
   "execution_count": 10,
   "id": "280222ec",
   "metadata": {},
   "outputs": [
    {
     "name": "stderr",
     "output_type": "stream",
     "text": [
      "<>:17: SyntaxWarning: \"is\" with a literal. Did you mean \"==\"?\n",
      "<>:17: SyntaxWarning: \"is\" with a literal. Did you mean \"==\"?\n",
      "<ipython-input-10-2c8dc3582dfe>:17: SyntaxWarning: \"is\" with a literal. Did you mean \"==\"?\n",
      "  if faces is ():\n"
     ]
    },
    {
     "name": "stdout",
     "output_type": "stream",
     "text": [
      "Image Detected\n",
      "your instance successfully launched\n",
      "Sending Mail Please wait......\n",
      "Email has been sent to receiver_mail id\n",
      "In 18 seconds web.whatsapp.com will open and after 10 seconds message will be delivered\n"
     ]
    }
   ],
   "source": [
    "import cv2\n",
    "import numpy as np\n",
    "import os\n",
    "import pywhatkit as kit\n",
    "import smtplib\n",
    "from email.message import EmailMessage\n",
    "\n",
    "\n",
    "face_classifier = cv2.CascadeClassifier('haarcascade_frontalface_default.xml')\n",
    "\n",
    "    \n",
    "def face_detector(img, size=0.5):\n",
    "    \n",
    "    # Convert image to grayscale\n",
    "    gray = cv2.cvtColor(img,cv2.COLOR_BGR2GRAY)\n",
    "    faces = face_classifier.detectMultiScale(gray, 1.3, 5)\n",
    "    if faces is ():\n",
    "        return img, []\n",
    "    \n",
    "    \n",
    "    for (x,y,w,h) in faces:\n",
    "        cv2.rectangle(img,(x,y),(x+w,y+h),(0,255,255),2)\n",
    "        roi = img[y:y+h, x:x+w]\n",
    "        roi = cv2.resize(roi, (200, 200))\n",
    "    return img, roi\n",
    "\n",
    "\n",
    "# Open Webcam\n",
    "cap = cv2.VideoCapture('http://192.168.0.101:4747/video')\n",
    "\n",
    "while True:\n",
    "\n",
    "    ret, frame = cap.read()\n",
    "    \n",
    "    image, face = face_detector(frame)\n",
    "    \n",
    "    try:\n",
    "        face = cv2.cvtColor(face, cv2.COLOR_BGR2GRAY)\n",
    "\n",
    "        # Pass face to prediction model\n",
    "        # \"results\" comprises of a tuple containing the label and the confidence value\n",
    "        results = model.predict(face)\n",
    "        # model.predict(face)\n",
    "        \n",
    "        if results[1] < 500:\n",
    "            confidence = int( 100 * (1 - (results[1])/400) )\n",
    "            display_string = str(confidence) + '% Confident it is User'\n",
    "            \n",
    "        cv2.putText(image, display_string, (100, 120), cv2.FONT_HERSHEY_COMPLEX, 1, (0,0,0), 2)\n",
    "        \n",
    "        if confidence > 85:\n",
    "            cv2.putText(image, \"Hey Jenil !\", (250, 450), cv2.FONT_HERSHEY_COMPLEX, 1, (0,255,0), 2)\n",
    "            cv2.imshow('Face Recognition', image )\n",
    "            print(\"Image Detected\")\n",
    "            \n",
    "                #for Ec2 Instance\n",
    "            AWS_launch()\n",
    "                \n",
    "            #for sending mail\n",
    "            mail()\n",
    "                \n",
    "            # for sending whatsapp\n",
    "            whatsapp()\n",
    "            \n",
    "            # for Discord Notification\n",
    "            Discord_alert()     \n",
    "            \n",
    "            break\n",
    "         \n",
    "        else:\n",
    "            \n",
    "            cv2.putText(image, \"I dont know, Who Are You!\", (250, 450), cv2.FONT_HERSHEY_COMPLEX, 1, (0,0,255), 2)\n",
    "            cv2.imshow('Face Recognition', image )\n",
    "\n",
    "    except:\n",
    "        cv2.putText(image, \"No Face Found\", (220, 120) , cv2.FONT_HERSHEY_COMPLEX, 1, (0,0,255), 2)\n",
    "        cv2.putText(image, \"looking for face\", (250, 450), cv2.FONT_HERSHEY_COMPLEX, 1, (0,0,255), 2)\n",
    "        cv2.imshow('Face Recognition', image )\n",
    "        pass\n",
    "        \n",
    "    if cv2.waitKey(1) == 13: #13 is the Enter Key\n",
    "        break\n",
    "        \n",
    "        \n",
    "cap.release()\n",
    "cv2.destroyAllWindows()"
   ]
  },
  {
   "cell_type": "code",
   "execution_count": null,
   "id": "a5df8fa9",
   "metadata": {},
   "outputs": [],
   "source": [
    "cap.release()"
   ]
  },
  {
   "cell_type": "code",
   "execution_count": null,
   "id": "selected-nickname",
   "metadata": {},
   "outputs": [],
   "source": []
  }
 ],
 "metadata": {
  "kernelspec": {
   "display_name": "Python 3",
   "language": "python",
   "name": "python3"
  },
  "language_info": {
   "codemirror_mode": {
    "name": "ipython",
    "version": 3
   },
   "file_extension": ".py",
   "mimetype": "text/x-python",
   "name": "python",
   "nbconvert_exporter": "python",
   "pygments_lexer": "ipython3",
   "version": "3.8.8"
  }
 },
 "nbformat": 4,
 "nbformat_minor": 5
}
